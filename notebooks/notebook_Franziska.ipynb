{
 "cells": [
  {
   "cell_type": "markdown",
   "metadata": {},
   "source": [
    "Author: Franziska Haisch"
   ]
  },
  {
   "cell_type": "markdown",
   "metadata": {},
   "source": [
    "# Exploring different Models"
   ]
  },
  {
   "cell_type": "markdown",
   "metadata": {},
   "source": [
    "## K-Nearest Neighbors (KNN)"
   ]
  },
  {
   "cell_type": "markdown",
   "metadata": {},
   "source": [
    "### Importing Nesessary Libaries"
   ]
  },
  {
   "cell_type": "code",
   "execution_count": 13,
   "metadata": {},
   "outputs": [],
   "source": [
    "import os # for file handling\n",
    "import numpy as np # for numerical operations\n",
    "import cv2 # for image processing\n",
    "import random # for random operations\n",
    "import matplotlib.pyplot as plt # for plotting\n",
    "\n",
    "from sklearn.neighbors import KNeighborsClassifier # for KNN\n",
    "from sklearn.model_selection import train_test_split, GridSearchCV, validation_curve, learning_curve # for model evaluation\n",
    "from sklearn.metrics import accuracy_score, confusion_matrix, classification_report, precision_score, recall_score, f1_score"
   ]
  },
  {
   "cell_type": "markdown",
   "metadata": {},
   "source": [
    "### Preprocessing\n",
    "Adjusting the preprocessing part could prevent the models from overfitting, but we will drop the KNN models in favor of CNN models."
   ]
  },
  {
   "cell_type": "code",
   "execution_count": 14,
   "metadata": {},
   "outputs": [],
   "source": [
    "def image_preprocessing(image_path):\n",
    "    # read image\n",
    "    image = cv2.imread(image_path)\n",
    "    # convert color to rgb\n",
    "    image = cv2.cvtColor(image, cv2.COLOR_BGR2RGB)\n",
    "    # resize image\n",
    "    image = cv2.resize(image, (16,16))\n",
    "    # flatten the image\n",
    "    image = image.flatten()\n",
    "\n",
    "    return image"
   ]
  },
  {
   "cell_type": "markdown",
   "metadata": {},
   "source": [
    "### Load Data"
   ]
  },
  {
   "cell_type": "markdown",
   "metadata": {},
   "source": [
    "#### Functions "
   ]
  },
  {
   "cell_type": "code",
   "execution_count": 15,
   "metadata": {},
   "outputs": [],
   "source": [
    "import os\n",
    "import numpy as np\n",
    "\n",
    "def prepare_data_from_folders(folder_path, sample_fraction=1.0):\n",
    "    \"\"\"\n",
    "    Prepares the data from a folder and allows for sampling a fraction of the data.\n",
    "\n",
    "    Parameters:\n",
    "    folder_path (str): The path to the folder containing the images.\n",
    "    sample_fraction (float): The fraction of the data to sample. Default is 1.0 (100%).\n",
    "\n",
    "    Returns:\n",
    "    np.array: The features extracted from the images.\n",
    "    np.array: The labels of the images.\n",
    "    \"\"\"\n",
    "    # create empty lists to store the features and labels\n",
    "    features = []\n",
    "    labels = []\n",
    "\n",
    "    # loop through the files in the folder which represent the labels\n",
    "    for label in os.listdir(folder_path):\n",
    "        class_folder = os.path.join(folder_path, label) # get the path to the class folder\n",
    "        if os.path.isdir(class_folder): # check if it is a directory\n",
    "            for image_name in os.listdir(class_folder): # loop through the images in the class folder\n",
    "                image_path = os.path.join(class_folder, image_name) # get the path to the image\n",
    "                # extract the features from the image\n",
    "                features.append(image_preprocessing(image_path))\n",
    "                labels.append(label) # add the label to the list\n",
    "\n",
    "    # Convert lists to numpy arrays\n",
    "    features = np.array(features)\n",
    "    labels = np.array(labels)\n",
    "\n",
    "    # Sample a fraction of the data\n",
    "    if sample_fraction < 1.0:\n",
    "        sample_size = int(len(features) * sample_fraction)\n",
    "        indices = np.random.choice(len(features), sample_size, replace=False)\n",
    "        features = features[indices]\n",
    "        labels = labels[indices]\n",
    "\n",
    "    return features, labels"
   ]
  },
  {
   "cell_type": "code",
   "execution_count": 34,
   "metadata": {},
   "outputs": [],
   "source": [
    "def load_images_and_labels(image_folder, label_folder, sample_fraction=1.0):\n",
    "    \"\"\"\n",
    "    Load images and labels from folders.\n",
    "\n",
    "    Parameters:\n",
    "    image_folder (str): The path to the folder containing the images.\n",
    "    label_folder (str): The path to the folder containing the labels.\n",
    "    sample_fraction (float): The fraction of the data to sample. Default is 1.0 (100%).\n",
    "\n",
    "    Returns:\n",
    "    np.array: The features extracted from the images.\n",
    "    np.array: The labels of the images.\n",
    "    \"\"\"\n",
    "    # create empty lists to store the features and labels\n",
    "    features = []\n",
    "    labels = []\n",
    "\n",
    "    # loop through the images in the image folder\n",
    "    for image_name in os.listdir(image_folder):\n",
    "        image_path = os.path.join(image_folder, image_name) # get the path to the image\n",
    "        label_path = os.path.join(label_folder, image_name.replace(\".jpg\", \".txt\")) # get the path to the label\n",
    "\n",
    "        # extract the features from the image\n",
    "        features.append(image_preprocessing(image_path))\n",
    "\n",
    "        # read the label file and handle multiple labels\n",
    "        image_labels = []\n",
    "        with open(label_path, \"r\") as file:\n",
    "            for line in file:\n",
    "                label = line.split()[0] # read each label\n",
    "                image_labels.append(label)\n",
    "\n",
    "        # Combine all labels into a single string\n",
    "        labels.append(\" \".join(image_labels)) # add the combined label to the list\n",
    "\n",
    "    # Convert lists to numpy arrays\n",
    "    features = np.array(features)\n",
    "    labels = np.array(labels)\n",
    "\n",
    "    # Sample a fraction of the data\n",
    "    if sample_fraction < 1.0:\n",
    "        sample_size = int(len(features) * sample_fraction)\n",
    "        indices = np.random.choice(len(features), sample_size, replace=False)\n",
    "        features = features[indices]\n",
    "        labels = labels[indices]\n",
    "\n",
    "    return features, labels"
   ]
  },
  {
   "cell_type": "code",
   "execution_count": 20,
   "metadata": {},
   "outputs": [],
   "source": [
    "def plot_learning_curve(estimator, X, y):\n",
    "    # Create a subplot for the learning curve\n",
    "    fig, ax = plt.subplots(figsize=(8, 5))\n",
    "\n",
    "    # Plot learning curve\n",
    "    train_sizes, train_scores, val_scores = learning_curve(estimator, X, y, cv=5)\n",
    "    train_scores_mean = np.mean(train_scores, axis=1)\n",
    "    val_scores_mean = np.mean(val_scores, axis=1)\n",
    "    ax.plot(train_sizes, train_scores_mean, label='Training score')\n",
    "    ax.plot(train_sizes, val_scores_mean, label='Test score')\n",
    "    ax.set_xlabel('Training Size')\n",
    "    ax.set_ylabel('Score')\n",
    "    ax.set_title('Learning Curve')\n",
    "    ax.legend()\n",
    "\n",
    "    # Display the plot\n",
    "    plt.tight_layout()\n",
    "    plt.show()"
   ]
  },
  {
   "cell_type": "markdown",
   "metadata": {},
   "source": [
    "#### Pathes to the Datesets"
   ]
  },
  {
   "cell_type": "code",
   "execution_count": 18,
   "metadata": {},
   "outputs": [],
   "source": [
    "# Satellite images - 4 classes - dataset\n",
    "satellite_4c_ds_path = \"../raw_data/satellite_images_4_classes\"\n",
    "\n",
    "# Satellite images - 14 classes - dataset\n",
    "satellite_14c_ds_path = \"../raw_data/satellite_images_14_classes\"\n",
    "\n",
    "# Wildfire images - 2 classes - dataset\n",
    "wildfire_2c_ds_path = \"../raw_data/wildfire_images_2_classes\""
   ]
  },
  {
   "cell_type": "markdown",
   "metadata": {},
   "source": [
    "### Train the model"
   ]
  },
  {
   "cell_type": "code",
   "execution_count": null,
   "metadata": {},
   "outputs": [
    {
     "name": "stdout",
     "output_type": "stream",
     "text": [
      "Accuracy: 89.11%, Best Parameters: {'algorithm': 'auto', 'leaf_size': 1, 'metric': 'euclidean', 'n_neighbors': 11, 'weights': 'distance'}, Best Score: 89.90%\n"
     ]
    },
    {
     "data": {
      "image/png": "[encoded data removed]",
      "text/plain": [
       "<Figure size 800x500 with 1 Axes>"
      ]
     },
     "metadata": {},
     "output_type": "display_data"
    },
    {
     "name": "stdout",
     "output_type": "stream",
     "text": [
      "Classification Report:\n",
      "              precision    recall  f1-score   support\n",
      "\n",
      "      cloudy       0.91      0.94      0.93       218\n",
      "      desert       0.97      0.90      0.93       165\n",
      "  green_area       0.92      0.78      0.85       217\n",
      "       water       0.81      0.93      0.87       245\n",
      "\n",
      "    accuracy                           0.89       845\n",
      "   macro avg       0.90      0.89      0.89       845\n",
      "weighted avg       0.90      0.89      0.89       845\n",
      "\n",
      "Confusion Matrix:\n",
      "[[206   5   1   6]\n",
      " [ 16 149   0   0]\n",
      " [  0   0 170  47]\n",
      " [  4   0  13 228]]\n",
      "Precision: 0.9035844590363403, Recall: 0.8905017036543693, F1-score: 0.8942244145669795\n"
     ]
    }
   ],
   "source": [
    "# Satellite images - 4 classes - dataset\n",
    "# parameter grid\n",
    "param_grid = {\n",
    "    'n_neighbors': [11],\n",
    "    'weights': ['distance'],\n",
    "    'metric': ['euclidean'],\n",
    "    'algorithm': ['auto'],\n",
    "    'leaf_size': [1]\n",
    "}\n",
    "\n",
    "sample_fraction = 0.5\n",
    "X, y = prepare_data_from_folders(satellite_4c_ds_path, sample_fraction=sample_fraction)\n",
    "X_train, X_test, y_train, y_test = train_test_split(X, y, test_size=0.3)\n",
    "\n",
    "knn = KNeighborsClassifier()\n",
    "grid_search = GridSearchCV(knn, param_grid, cv=5, n_jobs=-1)\n",
    "grid_search.fit(X_train, y_train)\n",
    "best_params = grid_search.best_params_\n",
    "best_score = grid_search.best_score_\n",
    "best_knn = KNeighborsClassifier(**best_params)\n",
    "best_knn.fit(X_train, y_train)\n",
    "y_pred = best_knn.predict(X_test)\n",
    "\n",
    "acc = accuracy_score(y_test, y_pred)\n",
    "print(f\"Accuracy: {acc:.2%}, Best Parameters: {best_params}, Best Score: {best_score:.2%}\")\n",
    "\n",
    "# Plot learning curves\n",
    "plot_learning_curve(best_knn, X_train, y_train)\n",
    "\n",
    "# Print classification report\n",
    "print(\"Classification Report:\")\n",
    "print(classification_report(y_test, y_pred))\n",
    "\n",
    "# Confusion matrix\n",
    "print(\"Confusion Matrix:\")\n",
    "print(confusion_matrix(y_test, y_pred))\n",
    "\n",
    "# Precision, Recall, F1-score\n",
    "precision = precision_score(y_test, y_pred, average='macro')\n",
    "recall = recall_score(y_test, y_pred, average='macro')\n",
    "f1 = f1_score(y_test, y_pred, average='macro')\n",
    "print(f\"Precision: {precision}, Recall: {recall}, F1-score: {f1}\")"
   ]
  },
  {
   "cell_type": "code",
   "execution_count": 37,
   "metadata": {},
   "outputs": [
    {
     "name": "stderr",
     "output_type": "stream",
     "text": [
      "/home/franziska/.pyenv/versions/3.10.6/envs/EnviroClass/lib/python3.10/site-packages/sklearn/model_selection/_split.py:805: UserWarning: The least populated class in y has only 1 members, which is less than n_splits=5.\n",
      "  warnings.warn(\n"
     ]
    },
    {
     "name": "stdout",
     "output_type": "stream",
     "text": [
      "Accuracy: 0.27, Best Parameters: {'algorithm': 'auto', 'leaf_size': 10, 'metric': 'manhattan', 'n_neighbors': 7, 'weights': 'distance'}, Best Score: 0.17285714285714288\n"
     ]
    },
    {
     "name": "stderr",
     "output_type": "stream",
     "text": [
      "/home/franziska/.pyenv/versions/3.10.6/envs/EnviroClass/lib/python3.10/site-packages/sklearn/model_selection/_split.py:805: UserWarning: The least populated class in y has only 1 members, which is less than n_splits=5.\n",
      "  warnings.warn(\n"
     ]
    },
    {
     "data": {
      "image/png": "[encoded data removed]",
      "text/plain": [
       "<Figure size 800x500 with 1 Axes>"
      ]
     },
     "metadata": {},
     "output_type": "display_data"
    },
    {
     "name": "stdout",
     "output_type": "stream",
     "text": [
      "Classification Report:\n",
      "              precision    recall  f1-score   support\n",
      "\n",
      "           0       0.10      0.50      0.17         6\n",
      "           1       0.00      0.00      0.00         3\n",
      "          10       0.00      0.00      0.00         8\n",
      "        10 9       0.00      0.00      0.00         1\n",
      "          11       0.00      0.00      0.00         8\n",
      "          12       0.00      0.00      0.00         4\n",
      "          13       0.00      0.00      0.00         1\n",
      "           2       0.80      0.44      0.57         9\n",
      "         2 2       0.00      0.00      0.00         1\n",
      "           3       0.00      0.00      0.00         9\n",
      "        3 12       0.00      0.00      0.00         1\n",
      "        3 13       0.00      0.00      0.00         1\n",
      "         3 6       0.00      0.00      0.00         1\n",
      "         3 8       0.00      0.00      0.00         1\n",
      "           4       0.73      0.85      0.79        13\n",
      "           5       0.33      0.12      0.18         8\n",
      "           6       0.17      0.89      0.29         9\n",
      "        6 13       0.00      0.00      0.00         1\n",
      "           7       0.00      0.00      0.00         4\n",
      "           8       0.00      0.00      0.00         2\n",
      "           9       0.00      0.00      0.00         9\n",
      "\n",
      "    accuracy                           0.27       100\n",
      "   macro avg       0.10      0.13      0.10       100\n",
      "weighted avg       0.22      0.27      0.20       100\n",
      "\n",
      "Confusion Matrix:\n",
      "[[ 3  0  0  0  0  0  0  0  0  0  0  0  0  0  0  0  3  0  0  0  0]\n",
      " [ 1  0  0  0  0  0  0  0  0  0  0  0  0  0  2  0  0  0  0  0  0]\n",
      " [ 3  0  0  0  0  0  0  0  0  0  0  0  0  0  1  0  4  0  0  0  0]\n",
      " [ 1  0  0  0  0  0  0  0  0  0  0  0  0  0  0  0  0  0  0  0  0]\n",
      " [ 2  0  0  0  0  0  0  0  0  0  0  0  0  0  0  1  4  0  0  0  1]\n",
      " [ 3  0  0  0  0  0  0  0  0  0  0  0  0  0  0  0  1  0  0  0  0]\n",
      " [ 0  0  0  0  0  0  0  0  0  0  0  0  0  0  0  0  1  0  0  0  0]\n",
      " [ 3  0  0  0  0  0  0  4  0  0  0  0  0  0  1  0  1  0  0  0  0]\n",
      " [ 0  0  0  0  0  0  0  0  0  0  0  0  0  0  0  0  1  0  0  0  0]\n",
      " [ 5  0  0  0  0  0  0  0  0  0  0  0  0  0  0  1  3  0  0  0  0]\n",
      " [ 1  0  0  0  0  0  0  0  0  0  0  0  0  0  0  0  0  0  0  0  0]\n",
      " [ 0  0  0  0  0  0  0  0  0  0  0  0  0  0  0  0  1  0  0  0  0]\n",
      " [ 1  0  0  0  0  0  0  0  0  0  0  0  0  0  0  0  0  0  0  0  0]\n",
      " [ 0  0  0  0  0  0  0  0  0  0  0  0  0  0  0  0  1  0  0  0  0]\n",
      " [ 1  0  0  0  0  0  0  0  0  0  0  0  0  0 11  0  1  0  0  0  0]\n",
      " [ 1  0  0  0  0  0  0  0  0  0  0  0  0  0  0  1  6  0  0  0  0]\n",
      " [ 1  0  0  0  0  0  0  0  0  0  0  0  0  0  0  0  8  0  0  0  0]\n",
      " [ 0  0  0  0  0  0  0  0  0  0  0  0  0  0  0  0  1  0  0  0  0]\n",
      " [ 1  0  0  0  0  0  0  0  0  0  0  0  0  0  0  0  3  0  0  0  0]\n",
      " [ 0  0  0  0  0  0  0  0  0  0  0  0  0  0  0  0  2  0  0  0  0]\n",
      " [ 2  0  0  0  0  0  0  1  0  0  0  0  0  0  0  0  6  0  0  0  0]]\n",
      "Precision: 0.10192036707077058, Recall: 0.13354700854700854, F1-score: 0.09505256648113791\n"
     ]
    },
    {
     "name": "stderr",
     "output_type": "stream",
     "text": [
      "/home/franziska/.pyenv/versions/3.10.6/envs/EnviroClass/lib/python3.10/site-packages/sklearn/metrics/_classification.py:1565: UndefinedMetricWarning: Precision is ill-defined and being set to 0.0 in labels with no predicted samples. Use `zero_division` parameter to control this behavior.\n",
      "  _warn_prf(average, modifier, f\"{metric.capitalize()} is\", len(result))\n",
      "/home/franziska/.pyenv/versions/3.10.6/envs/EnviroClass/lib/python3.10/site-packages/sklearn/metrics/_classification.py:1565: UndefinedMetricWarning: Precision is ill-defined and being set to 0.0 in labels with no predicted samples. Use `zero_division` parameter to control this behavior.\n",
      "  _warn_prf(average, modifier, f\"{metric.capitalize()} is\", len(result))\n",
      "/home/franziska/.pyenv/versions/3.10.6/envs/EnviroClass/lib/python3.10/site-packages/sklearn/metrics/_classification.py:1565: UndefinedMetricWarning: Precision is ill-defined and being set to 0.0 in labels with no predicted samples. Use `zero_division` parameter to control this behavior.\n",
      "  _warn_prf(average, modifier, f\"{metric.capitalize()} is\", len(result))\n",
      "/home/franziska/.pyenv/versions/3.10.6/envs/EnviroClass/lib/python3.10/site-packages/sklearn/metrics/_classification.py:1565: UndefinedMetricWarning: Precision is ill-defined and being set to 0.0 in labels with no predicted samples. Use `zero_division` parameter to control this behavior.\n",
      "  _warn_prf(average, modifier, f\"{metric.capitalize()} is\", len(result))\n"
     ]
    }
   ],
   "source": [
    "# Satellite images - 14 classes - dataset\n",
    "# parameter grid\n",
    "param_grid = {\n",
    "    'n_neighbors': [7],\n",
    "    'weights': ['distance'],\n",
    "    'metric': ['manhattan'],\n",
    "    'algorithm': ['auto'],\n",
    "    'leaf_size': [10]\n",
    "}\n",
    "\n",
    "sample_fraction = 1.0\n",
    "X_train, y_train = load_images_and_labels(f\"{satellite_14c_ds_path}/train/images\", f\"{satellite_14c_ds_path}/train/labels\", sample_fraction=sample_fraction)\n",
    "X_test, y_test = load_images_and_labels(f\"{satellite_14c_ds_path}/test/images\", f\"{satellite_14c_ds_path}/test/labels\")\n",
    "\n",
    "knn = KNeighborsClassifier()\n",
    "grid_search = GridSearchCV(knn, param_grid, cv=5, n_jobs=-1)\n",
    "grid_search.fit(X_train, y_train)\n",
    "best_params = grid_search.best_params_\n",
    "best_score = grid_search.best_score_\n",
    "best_knn = KNeighborsClassifier(**best_params)\n",
    "best_knn.fit(X_train, y_train)\n",
    "y_pred = best_knn.predict(X_test)\n",
    "\n",
    "acc = accuracy_score(y_test, y_pred)\n",
    "print(f\"Accuracy: {acc}, Best Parameters: {best_params}, Best Score: {best_score}\")\n",
    "\n",
    "# Plot learning curves\n",
    "plot_learning_curve(best_knn, X_train, y_train)\n",
    "\n",
    "# Print classification report\n",
    "print(\"Classification Report:\")\n",
    "print(classification_report(y_test, y_pred))\n",
    "\n",
    "# Confusion matrix\n",
    "print(\"Confusion Matrix:\")\n",
    "print(confusion_matrix(y_test, y_pred))\n",
    "\n",
    "# Precision, Recall, F1-score\n",
    "precision = precision_score(y_test, y_pred, average='macro')\n",
    "recall = recall_score(y_test, y_pred, average='macro')\n",
    "f1 = f1_score(y_test, y_pred, average='macro')\n",
    "print(f\"Precision: {precision}, Recall: {recall}, F1-score: {f1}\")"
   ]
  },
  {
   "cell_type": "code",
   "execution_count": 30,
   "metadata": {},
   "outputs": [
    {
     "name": "stderr",
     "output_type": "stream",
     "text": [
      "Premature end of JPEG file\n",
      "Premature end of JPEG file\n"
     ]
    },
    {
     "name": "stdout",
     "output_type": "stream",
     "text": [
      "Accuracy: 0.816031746031746, Best Parameters: {'algorithm': 'auto', 'leaf_size': 1, 'metric': 'euclidean', 'n_neighbors': 4, 'weights': 'distance'}, Best Score: 0.8002819487246737\n"
     ]
    },
    {
     "data": {
      "image/png": "[encoded data removed]",
      "text/plain": [
       "<Figure size 800x500 with 1 Axes>"
      ]
     },
     "metadata": {},
     "output_type": "display_data"
    },
    {
     "name": "stdout",
     "output_type": "stream",
     "text": [
      "Classification Report:\n",
      "              precision    recall  f1-score   support\n",
      "\n",
      "  nowildfire       0.92      0.65      0.76      2820\n",
      "    wildfire       0.77      0.95      0.85      3480\n",
      "\n",
      "    accuracy                           0.82      6300\n",
      "   macro avg       0.84      0.80      0.80      6300\n",
      "weighted avg       0.84      0.82      0.81      6300\n",
      "\n",
      "Confusion Matrix:\n",
      "[[1821  999]\n",
      " [ 160 3320]]\n",
      "Precision: 0.8439645841327293, Recall: 0.7998838346784054, F1-score: 0.8049915820044222\n"
     ]
    }
   ],
   "source": [
    "# Wildfire images - 2 classes - dataset\n",
    "# parameter grid\n",
    "param_grid = {\n",
    "    'n_neighbors': [4],\n",
    "    'weights': ['distance'],\n",
    "    'metric': ['euclidean'],\n",
    "    'algorithm': ['auto'],\n",
    "    'leaf_size': [1]\n",
    "}\n",
    "\n",
    "sample_fraction = 0.05\n",
    "X_train, y_train = prepare_data_from_folders(f\"{wildfire_2c_ds_path}/train\", sample_fraction=sample_fraction)\n",
    "X_test, y_test = prepare_data_from_folders(f\"{wildfire_2c_ds_path}/test\")\n",
    "\n",
    "knn = KNeighborsClassifier()\n",
    "grid_search = GridSearchCV(knn, param_grid, cv=5, n_jobs=-1)\n",
    "grid_search.fit(X_train, y_train)\n",
    "best_params = grid_search.best_params_\n",
    "best_score = grid_search.best_score_\n",
    "best_knn = KNeighborsClassifier(**best_params)\n",
    "best_knn.fit(X_train, y_train)\n",
    "y_pred = best_knn.predict(X_test)\n",
    "\n",
    "acc = accuracy_score(y_test, y_pred)\n",
    "print(f\"Accuracy: {acc}, Best Parameters: {best_params}, Best Score: {best_score}\")\n",
    "\n",
    "# Plot learning curves\n",
    "plot_learning_curve(best_knn, X_train, y_train)\n",
    "\n",
    "# Print classification report\n",
    "print(\"Classification Report:\")\n",
    "print(classification_report(y_test, y_pred))\n",
    "\n",
    "# Confusion matrix\n",
    "print(\"Confusion Matrix:\")\n",
    "print(confusion_matrix(y_test, y_pred))\n",
    "\n",
    "# Precision, Recall, F1-score\n",
    "precision = precision_score(y_test, y_pred, average='macro')\n",
    "recall = recall_score(y_test, y_pred, average='macro')\n",
    "f1 = f1_score(y_test, y_pred, average='macro')\n",
    "print(f\"Precision: {precision}, Recall: {recall}, F1-score: {f1}\")"
   ]
  }
 ],
 "metadata": {
  "kernelspec": {
   "display_name": "EnviroClass",
   "language": "python",
   "name": "python3"
  },
  "language_info": {
   "codemirror_mode": {
    "name": "ipython",
    "version": 3
   },
   "file_extension": ".py",
   "mimetype": "text/x-python",
   "name": "python",
   "nbconvert_exporter": "python",
   "pygments_lexer": "ipython3",
   "version": "3.10.6"
  }
 },
 "nbformat": 4,
 "nbformat_minor": 2
}
